{
 "cells": [
  {
   "cell_type": "code",
   "execution_count": null,
   "metadata": {},
   "outputs": [
    {
     "ename": "",
     "evalue": "",
     "output_type": "error",
     "traceback": [
      "\u001b[1;31mRunning cells with 'Python 3.8.10 64-bit' requires ipykernel package.\n",
      "Run the following command to install 'ipykernel' into the Python environment. \n",
      "Command: '/bin/python3 -m pip install ipykernel -U --user --force-reinstall'"
     ]
    }
   ],
   "source": [
    "import bagpy\n",
    "from bagpy import bagreader"
   ]
  },
  {
   "cell_type": "code",
   "execution_count": 3,
   "metadata": {},
   "outputs": [
    {
     "name": "stdout",
     "output_type": "stream",
     "text": [
      "[INFO]  Data folder ./test already exists. Not creating.\n"
     ]
    }
   ],
   "source": [
    "b = bagreader('./test.bag')"
   ]
  },
  {
   "cell_type": "code",
   "execution_count": 4,
   "metadata": {},
   "outputs": [
    {
     "data": {
      "text/html": [
       "<div>\n",
       "<style scoped>\n",
       "    .dataframe tbody tr th:only-of-type {\n",
       "        vertical-align: middle;\n",
       "    }\n",
       "\n",
       "    .dataframe tbody tr th {\n",
       "        vertical-align: top;\n",
       "    }\n",
       "\n",
       "    .dataframe thead th {\n",
       "        text-align: right;\n",
       "    }\n",
       "</style>\n",
       "<table border=\"1\" class=\"dataframe\">\n",
       "  <thead>\n",
       "    <tr style=\"text-align: right;\">\n",
       "      <th></th>\n",
       "      <th>Topics</th>\n",
       "      <th>Types</th>\n",
       "      <th>Message Count</th>\n",
       "      <th>Frequency</th>\n",
       "    </tr>\n",
       "  </thead>\n",
       "  <tbody>\n",
       "    <tr>\n",
       "      <th>0</th>\n",
       "      <td>/device_0/info</td>\n",
       "      <td>diagnostic_msgs/KeyValue</td>\n",
       "      <td>13</td>\n",
       "      <td>NaN</td>\n",
       "    </tr>\n",
       "    <tr>\n",
       "      <th>1</th>\n",
       "      <td>/device_0/sensor_0/Infrared_1/image/data</td>\n",
       "      <td>sensor_msgs/Image</td>\n",
       "      <td>796</td>\n",
       "      <td>29.991411</td>\n",
       "    </tr>\n",
       "    <tr>\n",
       "      <th>2</th>\n",
       "      <td>/device_0/sensor_0/Infrared_1/image/metadata</td>\n",
       "      <td>diagnostic_msgs/KeyValue</td>\n",
       "      <td>5572</td>\n",
       "      <td>NaN</td>\n",
       "    </tr>\n",
       "    <tr>\n",
       "      <th>3</th>\n",
       "      <td>/device_0/sensor_0/Infrared_1/info</td>\n",
       "      <td>realsense_msgs/StreamInfo</td>\n",
       "      <td>1</td>\n",
       "      <td>NaN</td>\n",
       "    </tr>\n",
       "    <tr>\n",
       "      <th>4</th>\n",
       "      <td>/device_0/sensor_0/Infrared_1/info/camera_info</td>\n",
       "      <td>sensor_msgs/CameraInfo</td>\n",
       "      <td>1</td>\n",
       "      <td>NaN</td>\n",
       "    </tr>\n",
       "    <tr>\n",
       "      <th>...</th>\n",
       "      <td>...</td>\n",
       "      <td>...</td>\n",
       "      <td>...</td>\n",
       "      <td>...</td>\n",
       "    </tr>\n",
       "    <tr>\n",
       "      <th>112</th>\n",
       "      <td>/device_0/sensor_2/option/Frames_Queue_Size/de...</td>\n",
       "      <td>std_msgs/String</td>\n",
       "      <td>1</td>\n",
       "      <td>NaN</td>\n",
       "    </tr>\n",
       "    <tr>\n",
       "      <th>113</th>\n",
       "      <td>/device_0/sensor_2/option/Frames_Queue_Size/value</td>\n",
       "      <td>std_msgs/Float32</td>\n",
       "      <td>1</td>\n",
       "      <td>NaN</td>\n",
       "    </tr>\n",
       "    <tr>\n",
       "      <th>114</th>\n",
       "      <td>/device_0/sensor_2/option/Global_Time_Enabled/...</td>\n",
       "      <td>std_msgs/String</td>\n",
       "      <td>1</td>\n",
       "      <td>NaN</td>\n",
       "    </tr>\n",
       "    <tr>\n",
       "      <th>115</th>\n",
       "      <td>/device_0/sensor_2/option/Global_Time_Enabled/...</td>\n",
       "      <td>std_msgs/Float32</td>\n",
       "      <td>1</td>\n",
       "      <td>NaN</td>\n",
       "    </tr>\n",
       "    <tr>\n",
       "      <th>116</th>\n",
       "      <td>/file_version</td>\n",
       "      <td>std_msgs/UInt32</td>\n",
       "      <td>1</td>\n",
       "      <td>NaN</td>\n",
       "    </tr>\n",
       "  </tbody>\n",
       "</table>\n",
       "<p>117 rows × 4 columns</p>\n",
       "</div>"
      ],
      "text/plain": [
       "                                                Topics  \\\n",
       "0                                       /device_0/info   \n",
       "1             /device_0/sensor_0/Infrared_1/image/data   \n",
       "2         /device_0/sensor_0/Infrared_1/image/metadata   \n",
       "3                   /device_0/sensor_0/Infrared_1/info   \n",
       "4       /device_0/sensor_0/Infrared_1/info/camera_info   \n",
       "..                                                 ...   \n",
       "112  /device_0/sensor_2/option/Frames_Queue_Size/de...   \n",
       "113  /device_0/sensor_2/option/Frames_Queue_Size/value   \n",
       "114  /device_0/sensor_2/option/Global_Time_Enabled/...   \n",
       "115  /device_0/sensor_2/option/Global_Time_Enabled/...   \n",
       "116                                      /file_version   \n",
       "\n",
       "                         Types  Message Count  Frequency  \n",
       "0     diagnostic_msgs/KeyValue             13        NaN  \n",
       "1            sensor_msgs/Image            796  29.991411  \n",
       "2     diagnostic_msgs/KeyValue           5572        NaN  \n",
       "3    realsense_msgs/StreamInfo              1        NaN  \n",
       "4       sensor_msgs/CameraInfo              1        NaN  \n",
       "..                         ...            ...        ...  \n",
       "112            std_msgs/String              1        NaN  \n",
       "113           std_msgs/Float32              1        NaN  \n",
       "114            std_msgs/String              1        NaN  \n",
       "115           std_msgs/Float32              1        NaN  \n",
       "116            std_msgs/UInt32              1        NaN  \n",
       "\n",
       "[117 rows x 4 columns]"
      ]
     },
     "execution_count": 4,
     "metadata": {},
     "output_type": "execute_result"
    }
   ],
   "source": [
    "b.topic_table"
   ]
  },
  {
   "cell_type": "code",
   "execution_count": 5,
   "metadata": {},
   "outputs": [],
   "source": [
    "b.topic_table.to_csv('topic_list.csv', index=False)"
   ]
  },
  {
   "cell_type": "code",
   "execution_count": 7,
   "metadata": {},
   "outputs": [],
   "source": [
    "tmp = b.message_by_topic(topic=\"/device_0/sensor_1/option/Exposure/value\")"
   ]
  },
  {
   "cell_type": "code",
   "execution_count": 23,
   "metadata": {},
   "outputs": [
    {
     "data": {
      "text/plain": [
       "str"
      ]
     },
     "execution_count": 23,
     "metadata": {},
     "output_type": "execute_result"
    }
   ],
   "source": [
    "type(tmp)"
   ]
  },
  {
   "cell_type": "code",
   "execution_count": 24,
   "metadata": {},
   "outputs": [
    {
     "data": {
      "text/plain": [
       "'./test/device_0-info.csv'"
      ]
     },
     "execution_count": 24,
     "metadata": {},
     "output_type": "execute_result"
    }
   ],
   "source": [
    "tmp"
   ]
  },
  {
   "cell_type": "code",
   "execution_count": 17,
   "metadata": {},
   "outputs": [
    {
     "data": {
      "text/plain": [
       "''"
      ]
     },
     "execution_count": 17,
     "metadata": {},
     "output_type": "execute_result"
    }
   ],
   "source": []
  },
  {
   "cell_type": "code",
   "execution_count": null,
   "metadata": {},
   "outputs": [],
   "source": []
  }
 ],
 "metadata": {
  "kernelspec": {
   "display_name": "Python 3.8.10 64-bit",
   "language": "python",
   "name": "python3"
  },
  "language_info": {
   "codemirror_mode": {
    "name": "ipython",
    "version": 3
   },
   "file_extension": ".py",
   "mimetype": "text/x-python",
   "name": "python",
   "nbconvert_exporter": "python",
   "pygments_lexer": "ipython3",
   "version": "3.8.10"
  },
  "orig_nbformat": 4,
  "vscode": {
   "interpreter": {
    "hash": "916dbcbb3f70747c44a77c7bcd40155683ae19c65e1c03b4aa3499c5328201f1"
   }
  }
 },
 "nbformat": 4,
 "nbformat_minor": 2
}
